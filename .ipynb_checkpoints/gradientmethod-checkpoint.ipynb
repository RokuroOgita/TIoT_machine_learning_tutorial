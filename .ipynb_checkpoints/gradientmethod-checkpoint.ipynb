{
 "cells": [
  {
   "cell_type": "code",
   "execution_count": 1,
   "id": "c89d7a94-8bc7-4541-807e-01c2de4c1b9a",
   "metadata": {},
   "outputs": [],
   "source": [
    "# https://chokkan.github.io/mlnote/regression/04sgd.html\n",
    "# 勾配法によるパラメータ推定\n",
    "\n",
    "import numpy as np\n",
    "import matplotlib.pyplot as plt\n",
    "import matplotlib.collections\n",
    "import matplotlib.animation\n",
    "import matplotlib.colors\n",
    "from IPython.display import HTML"
   ]
  },
  {
   "cell_type": "code",
   "execution_count": 2,
   "id": "b340eb1b-e5a1-4254-a90f-01c7b4e4b53a",
   "metadata": {},
   "outputs": [],
   "source": [
    "# 最急降下法の実装(バッチ学習)\n",
    "# ** べき乗　　@ 行列積\n",
    "D = np.array([[1, 3], [3, 6], [6, 5], [8, 7]])\n",
    "\n",
    "max_epochs = 10000# 最大反復回数\n",
    "eta = 0.001# 学習率\n",
    "eps = 1e-4\n",
    "\n",
    "X = np.vstack([D[:,0], np.ones_like(D[:,0])]).T# array([1,1], [3,1], [6,1], [8,1])\n",
    "y = D[:,1]\n",
    "w = np.zeros(X.shape[1])\n",
    "\n",
    "for t in range(max_epochs):\n",
    "    y_hat = X @ w# python >= 3.5 かつ行列積の場合、@演算子を使用可能(numpy.matmul()と等価)\n",
    "    grad = 2 * X.T @ (y_hat - y)\n",
    "    if np.sum(np.abs(grad)) < eps:\n",
    "        break\n",
    "    w -= eta * grad"
   ]
  },
  {
   "cell_type": "code",
   "execution_count": 3,
   "id": "c2a9aca3-ebec-4873-bf8d-4c664c1c9e8a",
   "metadata": {},
   "outputs": [
    {
     "data": {
      "text/plain": [
       "array([0.43104138, 3.31030308])"
      ]
     },
     "execution_count": 3,
     "metadata": {},
     "output_type": "execute_result"
    }
   ],
   "source": [
    "w # array([傾き, 切片])"
   ]
  },
  {
   "cell_type": "code",
   "execution_count": 4,
   "id": "656c89ff-b193-492e-97de-c809f14305a9",
   "metadata": {},
   "outputs": [
    {
     "data": {
      "text/plain": [
       "5464"
      ]
     },
     "execution_count": 4,
     "metadata": {},
     "output_type": "execute_result"
    }
   ],
   "source": [
    "t"
   ]
  },
  {
   "cell_type": "code",
   "execution_count": 5,
   "id": "2405be7d-1bd4-40d5-9aff-ea0af64b8723",
   "metadata": {},
   "outputs": [],
   "source": [
    "# 確率的勾配降下法(オンライン学習)\n",
    "D = np.array([[1, 3], [3, 6], [6, 5], [8, 7]])"
   ]
  },
  {
   "cell_type": "code",
   "execution_count": 6,
   "id": "60b378f8-2706-45b6-b6b6-a816972ae9b2",
   "metadata": {},
   "outputs": [],
   "source": [
    "max_epochs = 40000\n",
    "eta0 = 0.03\n",
    "eps = 1e-4\n",
    "\n",
    "X = np.vstack([D[:,0], np.ones_like(D[:,0])]).T\n",
    "y = D[:,1]\n",
    "w = np.zeros(X.shape[1])\n",
    "\n",
    "for t in range(max_epochs):\n",
    "    eta = eta0 / np.sqrt(1+t)\n",
    "    i = np.random.randint(0, X.shape[0])\n",
    "    y_hat = np.dot(X[i], w)\n",
    "    grad = 2 * (y_hat - y[i]) * X[i]\n",
    "    if np.sum(np.abs(grad)) < eps:\n",
    "        break\n",
    "    w -= eta * grad"
   ]
  },
  {
   "cell_type": "code",
   "execution_count": 7,
   "id": "080f557e-53ca-458d-a245-f8f45a47a011",
   "metadata": {},
   "outputs": [
    {
     "data": {
      "text/plain": [
       "array([0.57933408, 2.36533143])"
      ]
     },
     "execution_count": 7,
     "metadata": {},
     "output_type": "execute_result"
    }
   ],
   "source": [
    "w"
   ]
  }
 ],
 "metadata": {
  "kernelspec": {
   "display_name": "Python 3 (ipykernel)",
   "language": "python",
   "name": "python3"
  },
  "language_info": {
   "codemirror_mode": {
    "name": "ipython",
    "version": 3
   },
   "file_extension": ".py",
   "mimetype": "text/x-python",
   "name": "python",
   "nbconvert_exporter": "python",
   "pygments_lexer": "ipython3",
   "version": "3.9.9"
  }
 },
 "nbformat": 4,
 "nbformat_minor": 5
}
