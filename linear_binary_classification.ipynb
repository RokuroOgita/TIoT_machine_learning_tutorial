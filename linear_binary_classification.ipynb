{
 "cells": [
  {
   "cell_type": "code",
   "execution_count": 1,
   "id": "40a31ec4-1bb3-488b-ae9b-32459c37459b",
   "metadata": {},
   "outputs": [],
   "source": [
    "# https://chokkan.github.io/mlnote/classification/01binary.html\n",
    "# 線形二値分類"
   ]
  },
  {
   "cell_type": "code",
   "execution_count": 2,
   "id": "22aadd04-518c-447f-b799-ce3cf39d788f",
   "metadata": {},
   "outputs": [],
   "source": [
    "# ロジスティック回帰\n",
    "\n",
    "# シグモイド関数の計算を大きくさせない実装方法\n",
    "def sigmoid(a):\n",
    "    if 0 <= a:\n",
    "        return 1 / (1 + np.exp(-a))\n",
    "    else:\n",
    "        return 1. - 1 / (1 + np.exp(a))"
   ]
  },
  {
   "cell_type": "code",
   "execution_count": 3,
   "id": "98d6a63f-78cd-4123-9537-08ae08f85509",
   "metadata": {},
   "outputs": [],
   "source": [
    "# スパムメールの判別問題(DLから展開まで / 以下コメントアウト)\n",
    "# !wget https://archive.ics.uci.edu/ml/machine-learning-databases/00228/smsspamcollection.zip\n",
    "# !unzip smsspamcollection.zip\n",
    "# !head SMSSpamCollection"
   ]
  },
  {
   "cell_type": "code",
   "execution_count": 4,
   "id": "2d3deb96-c9cc-4f53-bda0-7b0d79df4bb1",
   "metadata": {},
   "outputs": [],
   "source": [
    "import collections\n",
    "\n",
    "def tokenize(s):\n",
    "    return [t.rstrip('.') for t in s.split(' ')]\n",
    "\n",
    "def vectorize(tokens):\n",
    "    return collections.Counter(tokens)\n",
    "\n",
    "def readiter(fi):\n",
    "    for line in fi:\n",
    "        fields = line.strip('\\n').split('\\t')\n",
    "        x = vectorize(tokenize(fields[1]))\n",
    "        y = fields[0]\n",
    "        yield x, y\n",
    "\n",
    "with open('SMSSpamCollection') as fi:\n",
    "    D = [d for d in readiter(fi)]"
   ]
  },
  {
   "cell_type": "code",
   "execution_count": 5,
   "id": "0fa0cc5d-c7cd-416d-98e7-76ae8cc4d671",
   "metadata": {},
   "outputs": [],
   "source": [
    "# 訓練データ(90%)と評価データ(10%)に分割\n",
    "from sklearn.model_selection import train_test_split\n",
    "\n",
    "Dtrain, Dtest = train_test_split(D, test_size=0.1, random_state=0)"
   ]
  },
  {
   "cell_type": "code",
   "execution_count": 6,
   "id": "fd88ad89-e14a-47ae-95c6-fdbe63ad0eb6",
   "metadata": {},
   "outputs": [
    {
     "name": "stdout",
     "output_type": "stream",
     "text": [
      "5016 558\n"
     ]
    }
   ],
   "source": [
    "print(len(Dtrain), len(Dtest))"
   ]
  },
  {
   "cell_type": "code",
   "execution_count": 7,
   "id": "41813c8e-3cac-465c-8b09-99c7a73e1b19",
   "metadata": {},
   "outputs": [],
   "source": [
    "# データ形式の変換\n",
    "from sklearn.preprocessing import LabelEncoder\n",
    "from sklearn.feature_extraction import DictVectorizer# 特徴をキー、値をバリューとする辞書オブジェクトから特徴ベクトルに変換する\n",
    "\n",
    "VX = DictVectorizer()\n",
    "VY = LabelEncoder()\n",
    "\n",
    "Xtrain = VX.fit_transform([d[0] for d in Dtrain])\n",
    "Ytrain = VY.fit_transform([d[1] for d in Dtrain])\n",
    "Xtest = VX.transform([d[0] for d in Dtest])\n",
    "Ytest = VY.transform([d[1] for d in Dtest])"
   ]
  },
  {
   "cell_type": "code",
   "execution_count": 8,
   "id": "a08d8bc8-93df-4b5b-af87-2cfbcf3db270",
   "metadata": {},
   "outputs": [
    {
     "data": {
      "text/plain": [
       "(Counter({'I': 1,\n",
       "          'take': 1,\n",
       "          'it': 2,\n",
       "          'we': 3,\n",
       "          \"didn't\": 1,\n",
       "          'have': 2,\n",
       "          'the': 1,\n",
       "          'phone': 1,\n",
       "          'callon': 1,\n",
       "          'Friday': 1,\n",
       "          'Can': 1,\n",
       "          'assume': 1,\n",
       "          \"won't\": 1,\n",
       "          'this': 1,\n",
       "          'year': 1,\n",
       "          'now?': 1}),\n",
       " 'ham')"
      ]
     },
     "execution_count": 8,
     "metadata": {},
     "output_type": "execute_result"
    }
   ],
   "source": [
    "Dtrain[10]"
   ]
  },
  {
   "cell_type": "code",
   "execution_count": 9,
   "id": "e0cc00d1-22ea-491f-b011-4e3b3fd0f756",
   "metadata": {},
   "outputs": [
    {
     "name": "stdout",
     "output_type": "stream",
     "text": [
      "  (0, 1831)\t1.0\n",
      "  (0, 2385)\t1.0\n",
      "  (0, 2769)\t1.0\n",
      "  (0, 5546)\t1.0\n",
      "  (0, 6110)\t1.0\n",
      "  (0, 6923)\t1.0\n",
      "  (0, 8101)\t2.0\n",
      "  (0, 8587)\t2.0\n",
      "  (0, 9821)\t1.0\n",
      "  (0, 10231)\t1.0\n",
      "  (0, 11832)\t1.0\n",
      "  (0, 11957)\t1.0\n",
      "  (0, 12014)\t1.0\n",
      "  (0, 12653)\t3.0\n",
      "  (0, 12862)\t1.0\n",
      "  (0, 13030)\t1.0\n",
      "we\n",
      "0\n"
     ]
    }
   ],
   "source": [
    "print(Xtrain[10])\n",
    "print(VX.feature_names_[12653])#疎行列の12653列目の値が3.0なのでその値を入力して単語が何かを調べることができる\n",
    "print(Ytrain[10])# hamが0 spamが1に分類されていることがわかる"
   ]
  },
  {
   "cell_type": "code",
   "execution_count": 10,
   "id": "76700f60-9d12-4095-8020-5e4c51424b47",
   "metadata": {},
   "outputs": [
    {
     "data": {
      "text/plain": [
       "SGDClassifier(loss='log')"
      ]
     },
     "execution_count": 10,
     "metadata": {},
     "output_type": "execute_result"
    }
   ],
   "source": [
    "from sklearn.linear_model import SGDClassifier\n",
    "\n",
    "model = SGDClassifier(loss='log')# デフォルトだと線形分類モデルを確率的勾配降下法で求める。引数にlogを指定するとロジスティック回帰で求めてくれる\n",
    "model.fit(Xtrain, Ytrain)"
   ]
  },
  {
   "cell_type": "code",
   "execution_count": 11,
   "id": "b290e11f-87fe-48e8-9e7d-5bb192dbdc11",
   "metadata": {},
   "outputs": [
    {
     "data": {
      "text/plain": [
       "array([0])"
      ]
     },
     "execution_count": 11,
     "metadata": {},
     "output_type": "execute_result"
    }
   ],
   "source": [
    "model.predict(Xtest[0])"
   ]
  },
  {
   "cell_type": "code",
   "execution_count": 12,
   "id": "62348723-b20f-4528-b831-5d98da9327f5",
   "metadata": {},
   "outputs": [
    {
     "data": {
      "text/plain": [
       "array([[0.99638588, 0.00361412]])"
      ]
     },
     "execution_count": 12,
     "metadata": {},
     "output_type": "execute_result"
    }
   ],
   "source": [
    "# ham および spamの予測をする確率を出力\n",
    "model.predict_proba(Xtest[0])"
   ]
  },
  {
   "cell_type": "code",
   "execution_count": 13,
   "id": "d3f45ae9-a63b-45c3-8da9-3b41b9e65f01",
   "metadata": {},
   "outputs": [
    {
     "data": {
      "text/plain": [
       "0.9695340501792115"
      ]
     },
     "execution_count": 13,
     "metadata": {},
     "output_type": "execute_result"
    }
   ],
   "source": [
    "model.score(Xtest, Ytest)"
   ]
  },
  {
   "cell_type": "code",
   "execution_count": 14,
   "id": "0a6f3589-5efb-40d8-82c6-41619afdae12",
   "metadata": {},
   "outputs": [
    {
     "data": {
      "text/plain": [
       "array([[0.17683535, 0.82316465]])"
      ]
     },
     "execution_count": 14,
     "metadata": {},
     "output_type": "execute_result"
    }
   ],
   "source": [
    "msg = \"Your account has been credited with 500 FREE Text Messages.\"\n",
    "model.predict_proba(VX.transform(vectorize(tokenize(msg))))\n",
    "# 結果スパムに分類された"
   ]
  },
  {
   "cell_type": "code",
   "execution_count": 15,
   "id": "62d327eb-953f-49fb-93ea-3ebd91cdd931",
   "metadata": {},
   "outputs": [
    {
     "data": {
      "text/plain": [
       "array([[-0.79413186, -0.13094001, -0.00331027, ...,  0.36239771,\n",
       "        -0.27695296, -0.00163919]])"
      ]
     },
     "execution_count": 15,
     "metadata": {},
     "output_type": "execute_result"
    }
   ],
   "source": [
    "model.coef_"
   ]
  },
  {
   "cell_type": "code",
   "execution_count": 16,
   "id": "437efd94-abbc-4f81-bcd0-4b0f55383116",
   "metadata": {},
   "outputs": [],
   "source": [
    "# 特徴を表す単語とその重みのタプルからなるリストを作成し、重みが小さい順に並べたものを変数Fに格納する。\n",
    "F = sorted(zip(VX.feature_names_, model.coef_[0]), key=lambda x: x[1])"
   ]
  },
  {
   "cell_type": "code",
   "execution_count": 17,
   "id": "46a1d698-1168-488b-940d-d1f5c8d0b87f",
   "metadata": {},
   "outputs": [
    {
     "data": {
      "text/plain": [
       "[('&lt;#&gt;', -1.291071897653726),\n",
       " ('me', -1.1984882792408),\n",
       " ('him', -1.1577750969718144),\n",
       " ('&amp;', -1.1216312213976345),\n",
       " ('I', -1.1035737965370789),\n",
       " ('later', -1.0541651117599518),\n",
       " ('Happy', -1.0269759672519978),\n",
       " ('What', -1.000594325026295),\n",
       " ('And', -0.983391730559116),\n",
       " ('simple', -0.9816473130981943),\n",
       " ('my', -0.9711350992320826),\n",
       " ('u', -0.9425440398961344),\n",
       " ('he', -0.9103018053922919),\n",
       " ('i', -0.8998122273260664),\n",
       " ('ask', -0.8890145983450933),\n",
       " (\"i'm\", -0.8524625763251584),\n",
       " ('lose', -0.8517118308916841),\n",
       " ('said', -0.8500266948290822),\n",
       " ('ME', -0.839989670993406),\n",
       " ('good', -0.8379534186582519)]"
      ]
     },
     "execution_count": 17,
     "metadata": {},
     "output_type": "execute_result"
    }
   ],
   "source": [
    "# ham が 0 で spam が 1 なので、以下の単語を含むメッセージはhamだと予測されやすくなる（上位20単語）\n",
    "F[:20]# 重みの値が負に大きいトップ20"
   ]
  },
  {
   "cell_type": "code",
   "execution_count": 18,
   "id": "f8890fbb-0fd1-4f6b-9520-5858d2bf2c68",
   "metadata": {},
   "outputs": [
    {
     "data": {
      "text/plain": [
       "[('claim', 1.4933937873007574),\n",
       " ('FREE', 1.5311685698234254),\n",
       " ('85233', 1.5597943544196624),\n",
       " ('FREE>Ringtone!Reply', 1.5597943544196624),\n",
       " ('-', 1.6076169970280638),\n",
       " (\"let's\", 1.6404697476557395),\n",
       " ('84484', 1.715317726901818),\n",
       " ('ringtoneking', 1.715317726901818),\n",
       " ('146tf150p', 1.734993477949411),\n",
       " ('2/2', 1.734993477949411),\n",
       " ('text', 1.75971235360272),\n",
       " ('service', 1.8899161812030403),\n",
       " ('&', 1.891587797841576),\n",
       " ('won', 1.9249391378528136),\n",
       " ('mobile', 1.9779817776242663),\n",
       " ('txt', 2.053966309086186),\n",
       " ('now!', 2.0779929639153956),\n",
       " ('STOP', 2.132429602315804),\n",
       " ('Call', 2.3701368026425973),\n",
       " ('Txt', 2.37855614106501)]"
      ]
     },
     "execution_count": 18,
     "metadata": {},
     "output_type": "execute_result"
    }
   ],
   "source": [
    "# 逆で胡散臭いランキング\n",
    "F[-20:]"
   ]
  }
 ],
 "metadata": {
  "kernelspec": {
   "display_name": "Python 3.9.9 64-bit ('3.9.9')",
   "language": "python",
   "name": "python3"
  },
  "language_info": {
   "codemirror_mode": {
    "name": "ipython",
    "version": 3
   },
   "file_extension": ".py",
   "mimetype": "text/x-python",
   "name": "python",
   "nbconvert_exporter": "python",
   "pygments_lexer": "ipython3",
   "version": "3.9.9"
  },
  "vscode": {
   "interpreter": {
    "hash": "8c0a1ea869a6b5bb8fd4a1ab60b68e607bd25f3d82c18237a9d584ddd56d3b95"
   }
  }
 },
 "nbformat": 4,
 "nbformat_minor": 5
}
